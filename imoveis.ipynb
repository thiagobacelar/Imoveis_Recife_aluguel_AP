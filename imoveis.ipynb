{
 "cells": [
  {
   "cell_type": "code",
   "execution_count": 58,
   "id": "75ee6547",
   "metadata": {},
   "outputs": [],
   "source": [
    "import pandas as pd\n",
    "import requests\n",
    "from bs4 import BeautifulSoup\n",
    "import geopandas as gpds"
   ]
  },
  {
   "cell_type": "markdown",
   "id": "95acee04",
   "metadata": {},
   "source": [
    "### Fazer Web Scrapping e pegar [ Valor, Endereço, Medida, Quarto e garagem ]"
   ]
  },
  {
   "cell_type": "code",
   "execution_count": 52,
   "id": "ac02add6",
   "metadata": {},
   "outputs": [
    {
     "name": "stdout",
     "output_type": "stream",
     "text": [
      "10\n"
     ]
    },
    {
     "data": {
      "text/html": [
       "<div>\n",
       "<style scoped>\n",
       "    .dataframe tbody tr th:only-of-type {\n",
       "        vertical-align: middle;\n",
       "    }\n",
       "\n",
       "    .dataframe tbody tr th {\n",
       "        vertical-align: top;\n",
       "    }\n",
       "\n",
       "    .dataframe thead th {\n",
       "        text-align: right;\n",
       "    }\n",
       "</style>\n",
       "<table border=\"1\" class=\"dataframe\">\n",
       "  <thead>\n",
       "    <tr style=\"text-align: right;\">\n",
       "      <th></th>\n",
       "      <th>Aluguel</th>\n",
       "      <th>Endereco</th>\n",
       "      <th>medida</th>\n",
       "      <th>quarto</th>\n",
       "    </tr>\n",
       "  </thead>\n",
       "  <tbody>\n",
       "    <tr>\n",
       "      <th>0</th>\n",
       "      <td>R$ 2.000</td>\n",
       "      <td>Rua Doutor Raul Lafayette, Boa Via...</td>\n",
       "      <td>60</td>\n",
       "      <td>2</td>\n",
       "    </tr>\n",
       "    <tr>\n",
       "      <th>1</th>\n",
       "      <td>R$ 2.000</td>\n",
       "      <td>Rua Vicente Zírpoli, Caxangá      ...</td>\n",
       "      <td>64</td>\n",
       "      <td>3</td>\n",
       "    </tr>\n",
       "    <tr>\n",
       "      <th>2</th>\n",
       "      <td>R$ 700</td>\n",
       "      <td>Rua Presidente Nilo Peçanha, Imbir...</td>\n",
       "      <td>50</td>\n",
       "      <td>2</td>\n",
       "    </tr>\n",
       "    <tr>\n",
       "      <th>3</th>\n",
       "      <td>R$ 2.800</td>\n",
       "      <td>Rua Isaac Salazar, Tamarineira    ...</td>\n",
       "      <td>49</td>\n",
       "      <td>2</td>\n",
       "    </tr>\n",
       "    <tr>\n",
       "      <th>4</th>\n",
       "      <td>R$ 2.600</td>\n",
       "      <td>Rua Conselheiro Portela, Espinheir...</td>\n",
       "      <td>60</td>\n",
       "      <td>2</td>\n",
       "    </tr>\n",
       "  </tbody>\n",
       "</table>\n",
       "</div>"
      ],
      "text/plain": [
       "                      Aluguel  \\\n",
       "0        R$ 2.000               \n",
       "1        R$ 2.000               \n",
       "2          R$ 700               \n",
       "3        R$ 2.800               \n",
       "4        R$ 2.600               \n",
       "\n",
       "                                            Endereco               medida  \\\n",
       "0              Rua Doutor Raul Lafayette, Boa Via...          60            \n",
       "1              Rua Vicente Zírpoli, Caxangá      ...          64            \n",
       "2              Rua Presidente Nilo Peçanha, Imbir...          50            \n",
       "3              Rua Isaac Salazar, Tamarineira    ...          49            \n",
       "4              Rua Conselheiro Portela, Espinheir...          60            \n",
       "\n",
       "               quarto  \n",
       "0          2           \n",
       "1          3           \n",
       "2          2           \n",
       "3          2           \n",
       "4          2           "
      ]
     },
     "execution_count": 52,
     "metadata": {},
     "output_type": "execute_result"
    }
   ],
   "source": [
    "url = \"https://www.zapimoveis.com.br/aluguel/apartamentos/pe+recife/?onde=,Pernambuco,Recife,,,,,city,BR%3EPernambuco%3ENULL%3ERecife,-8.05774,-34.882963,&transacao=Aluguel&tipo=Im%C3%B3vel%20usado&tipoUnidade=Residencial,Apartamento&pagina=\"\n",
    "headers = {\"User-Agent\": \"Mozilla/5.0 (Windows NT 10.0; Win64; x64) AppleWebKit/537.36 (KHTML, like Gecko) Chrome/70.0.3538.77 Safari/537.36\"}\n",
    "\n",
    "Imoveis = []\n",
    "\n",
    "\n",
    "for x in range(1,11):\n",
    "    site = requests.get(url + str(x), headers=headers)\n",
    "    soup = BeautifulSoup(site.content, 'html.parser')\n",
    "    container = soup.find(\"div\", class_=\"listings__wrapper\")\n",
    "    lista = container.find_all(\"div\", attrs={\"class\":\"card-container\"})\n",
    "\n",
    "\n",
    "    for li in lista:\n",
    "        valor = li.find('p', 'simple-card__price').find('strong').text\n",
    "        valor = valor.replace('\\n','').replace('/mês','')\n",
    "            \n",
    "        \n",
    "        endereco = li.find('h2', 'simple-card__address').text\n",
    "        endereco = endereco.replace('\\n','')\n",
    "        \n",
    "        \n",
    "        medida = li.find('div', 'simple-card__actions').find('ul').find('li','js-areas').text\n",
    "        medida = medida.replace('area\\n','').replace('\\n','').replace('m²', '')\n",
    "                \n",
    "        \n",
    "        quarto = li.find('div', 'simple-card__actions').find('ul').find('li','js-bedrooms').text\n",
    "        quarto = quarto.replace('bedroom\\n','').replace('\\n','')\n",
    "                    \n",
    "        \n",
    "        Imoveis.append([valor, endereco, medida, quarto])\n",
    "\n",
    "df = df = pd.DataFrame(data=Imoveis, columns=['Aluguel','Endereco','medida','quarto'])\n",
    "print(int(x))\n",
    "df.head()"
   ]
  },
  {
   "cell_type": "markdown",
   "id": "82e73354",
   "metadata": {},
   "source": [
    "### Converter medida para inteiro"
   ]
  },
  {
   "cell_type": "code",
   "execution_count": 53,
   "id": "36fc318f",
   "metadata": {},
   "outputs": [
    {
     "data": {
      "text/plain": [
       "Aluguel     object\n",
       "Endereco    object\n",
       "medida       int32\n",
       "quarto      object\n",
       "dtype: object"
      ]
     },
     "execution_count": 53,
     "metadata": {},
     "output_type": "execute_result"
    }
   ],
   "source": [
    "df['medida'] = df['medida'].astype(int)\n",
    "df.dtypes"
   ]
  },
  {
   "cell_type": "markdown",
   "id": "23a8cdc8",
   "metadata": {},
   "source": [
    "### Verificar se existem valores nulos no dataframe"
   ]
  },
  {
   "cell_type": "code",
   "execution_count": 54,
   "id": "cf3430ec",
   "metadata": {},
   "outputs": [
    {
     "data": {
      "text/plain": [
       "Aluguel     0\n",
       "Endereco    0\n",
       "medida      0\n",
       "quarto      0\n",
       "dtype: int64"
      ]
     },
     "execution_count": 54,
     "metadata": {},
     "output_type": "execute_result"
    }
   ],
   "source": [
    "df.isnull().sum()"
   ]
  },
  {
   "cell_type": "markdown",
   "id": "f7045f01",
   "metadata": {},
   "source": [
    "### Gerar localização a parti do endereço dos imóveis "
   ]
  },
  {
   "cell_type": "code",
   "execution_count": 56,
   "id": "cf0ea94d",
   "metadata": {},
   "outputs": [
    {
     "data": {
      "text/plain": [
       "0    POINT (-34.90050 -8.12213)\n",
       "1    POINT (-34.95265 -8.03094)\n",
       "2    POINT (-34.91026 -8.11897)\n",
       "3    POINT (-34.90551 -8.03255)\n",
       "4    POINT (-34.89470 -8.04256)\n",
       "Name: geometry, dtype: geometry"
      ]
     },
     "execution_count": 56,
     "metadata": {},
     "output_type": "execute_result"
    }
   ],
   "source": [
    "localizacao = gpds.tools.geocode(df['Endereco'], provider='nominatim', user_agent=\"imoveis\")['geometry']\n",
    "localizacao.head()"
   ]
  },
  {
   "cell_type": "markdown",
   "id": "ab1c2162",
   "metadata": {},
   "source": [
    "### Criar uma nova coluna e inserir os dados de localização"
   ]
  },
  {
   "cell_type": "code",
   "execution_count": 59,
   "id": "6b478519",
   "metadata": {},
   "outputs": [
    {
     "data": {
      "text/html": [
       "<div>\n",
       "<style scoped>\n",
       "    .dataframe tbody tr th:only-of-type {\n",
       "        vertical-align: middle;\n",
       "    }\n",
       "\n",
       "    .dataframe tbody tr th {\n",
       "        vertical-align: top;\n",
       "    }\n",
       "\n",
       "    .dataframe thead th {\n",
       "        text-align: right;\n",
       "    }\n",
       "</style>\n",
       "<table border=\"1\" class=\"dataframe\">\n",
       "  <thead>\n",
       "    <tr style=\"text-align: right;\">\n",
       "      <th></th>\n",
       "      <th>Aluguel</th>\n",
       "      <th>Endereco</th>\n",
       "      <th>medida</th>\n",
       "      <th>quarto</th>\n",
       "      <th>localizacao</th>\n",
       "    </tr>\n",
       "  </thead>\n",
       "  <tbody>\n",
       "    <tr>\n",
       "      <th>0</th>\n",
       "      <td>R$ 2.000</td>\n",
       "      <td>Rua Doutor Raul Lafayette, Boa Via...</td>\n",
       "      <td>60</td>\n",
       "      <td>2</td>\n",
       "      <td>POINT (-34.90050 -8.12213)</td>\n",
       "    </tr>\n",
       "    <tr>\n",
       "      <th>1</th>\n",
       "      <td>R$ 2.000</td>\n",
       "      <td>Rua Vicente Zírpoli, Caxangá      ...</td>\n",
       "      <td>64</td>\n",
       "      <td>3</td>\n",
       "      <td>POINT (-34.95265 -8.03094)</td>\n",
       "    </tr>\n",
       "    <tr>\n",
       "      <th>2</th>\n",
       "      <td>R$ 700</td>\n",
       "      <td>Rua Presidente Nilo Peçanha, Imbir...</td>\n",
       "      <td>50</td>\n",
       "      <td>2</td>\n",
       "      <td>POINT (-34.91026 -8.11897)</td>\n",
       "    </tr>\n",
       "    <tr>\n",
       "      <th>3</th>\n",
       "      <td>R$ 2.800</td>\n",
       "      <td>Rua Isaac Salazar, Tamarineira    ...</td>\n",
       "      <td>49</td>\n",
       "      <td>2</td>\n",
       "      <td>POINT (-34.90551 -8.03255)</td>\n",
       "    </tr>\n",
       "    <tr>\n",
       "      <th>4</th>\n",
       "      <td>R$ 2.600</td>\n",
       "      <td>Rua Conselheiro Portela, Espinheir...</td>\n",
       "      <td>60</td>\n",
       "      <td>2</td>\n",
       "      <td>POINT (-34.89470 -8.04256)</td>\n",
       "    </tr>\n",
       "  </tbody>\n",
       "</table>\n",
       "</div>"
      ],
      "text/plain": [
       "                      Aluguel  \\\n",
       "0        R$ 2.000               \n",
       "1        R$ 2.000               \n",
       "2          R$ 700               \n",
       "3        R$ 2.800               \n",
       "4        R$ 2.600               \n",
       "\n",
       "                                            Endereco  medida  \\\n",
       "0              Rua Doutor Raul Lafayette, Boa Via...      60   \n",
       "1              Rua Vicente Zírpoli, Caxangá      ...      64   \n",
       "2              Rua Presidente Nilo Peçanha, Imbir...      50   \n",
       "3              Rua Isaac Salazar, Tamarineira    ...      49   \n",
       "4              Rua Conselheiro Portela, Espinheir...      60   \n",
       "\n",
       "               quarto                 localizacao  \n",
       "0          2           POINT (-34.90050 -8.12213)  \n",
       "1          3           POINT (-34.95265 -8.03094)  \n",
       "2          2           POINT (-34.91026 -8.11897)  \n",
       "3          2           POINT (-34.90551 -8.03255)  \n",
       "4          2           POINT (-34.89470 -8.04256)  "
      ]
     },
     "execution_count": 59,
     "metadata": {},
     "output_type": "execute_result"
    }
   ],
   "source": [
    "df['localizacao'] = localizacao\n",
    "df.head()"
   ]
  },
  {
   "cell_type": "markdown",
   "id": "976f52c7",
   "metadata": {},
   "source": [
    "### Mostrar dataframe completo"
   ]
  },
  {
   "cell_type": "code",
   "execution_count": 60,
   "id": "f1796b8e",
   "metadata": {},
   "outputs": [
    {
     "data": {
      "text/html": [
       "<div>\n",
       "<style scoped>\n",
       "    .dataframe tbody tr th:only-of-type {\n",
       "        vertical-align: middle;\n",
       "    }\n",
       "\n",
       "    .dataframe tbody tr th {\n",
       "        vertical-align: top;\n",
       "    }\n",
       "\n",
       "    .dataframe thead th {\n",
       "        text-align: right;\n",
       "    }\n",
       "</style>\n",
       "<table border=\"1\" class=\"dataframe\">\n",
       "  <thead>\n",
       "    <tr style=\"text-align: right;\">\n",
       "      <th></th>\n",
       "      <th>Aluguel</th>\n",
       "      <th>Endereco</th>\n",
       "      <th>medida</th>\n",
       "      <th>quarto</th>\n",
       "      <th>localizacao</th>\n",
       "    </tr>\n",
       "  </thead>\n",
       "  <tbody>\n",
       "    <tr>\n",
       "      <th>0</th>\n",
       "      <td>R$ 2.000</td>\n",
       "      <td>Rua Doutor Raul Lafayette, Boa Via...</td>\n",
       "      <td>60</td>\n",
       "      <td>2</td>\n",
       "      <td>POINT (-34.90050 -8.12213)</td>\n",
       "    </tr>\n",
       "    <tr>\n",
       "      <th>1</th>\n",
       "      <td>R$ 2.000</td>\n",
       "      <td>Rua Vicente Zírpoli, Caxangá      ...</td>\n",
       "      <td>64</td>\n",
       "      <td>3</td>\n",
       "      <td>POINT (-34.95265 -8.03094)</td>\n",
       "    </tr>\n",
       "    <tr>\n",
       "      <th>2</th>\n",
       "      <td>R$ 700</td>\n",
       "      <td>Rua Presidente Nilo Peçanha, Imbir...</td>\n",
       "      <td>50</td>\n",
       "      <td>2</td>\n",
       "      <td>POINT (-34.91026 -8.11897)</td>\n",
       "    </tr>\n",
       "    <tr>\n",
       "      <th>3</th>\n",
       "      <td>R$ 2.800</td>\n",
       "      <td>Rua Isaac Salazar, Tamarineira    ...</td>\n",
       "      <td>49</td>\n",
       "      <td>2</td>\n",
       "      <td>POINT (-34.90551 -8.03255)</td>\n",
       "    </tr>\n",
       "    <tr>\n",
       "      <th>4</th>\n",
       "      <td>R$ 2.600</td>\n",
       "      <td>Rua Conselheiro Portela, Espinheir...</td>\n",
       "      <td>60</td>\n",
       "      <td>2</td>\n",
       "      <td>POINT (-34.89470 -8.04256)</td>\n",
       "    </tr>\n",
       "    <tr>\n",
       "      <th>...</th>\n",
       "      <td>...</td>\n",
       "      <td>...</td>\n",
       "      <td>...</td>\n",
       "      <td>...</td>\n",
       "      <td>...</td>\n",
       "    </tr>\n",
       "    <tr>\n",
       "      <th>335</th>\n",
       "      <td>R$ 3.200</td>\n",
       "      <td>Rua Desembargador João Paes, Boa V...</td>\n",
       "      <td>61</td>\n",
       "      <td>2</td>\n",
       "      <td>POINT (-34.90984 -8.12666)</td>\n",
       "    </tr>\n",
       "    <tr>\n",
       "      <th>336</th>\n",
       "      <td>R$ 3.900</td>\n",
       "      <td>Rua Antônio Falcão, Boa Viagem    ...</td>\n",
       "      <td>55</td>\n",
       "      <td>2</td>\n",
       "      <td>POINT (-34.90037 -8.11322)</td>\n",
       "    </tr>\n",
       "    <tr>\n",
       "      <th>337</th>\n",
       "      <td>R$ 2.000</td>\n",
       "      <td>Avenida Hélio Falcão, Boa Viagem  ...</td>\n",
       "      <td>47</td>\n",
       "      <td>1</td>\n",
       "      <td>POINT (-34.90292 -8.12172)</td>\n",
       "    </tr>\n",
       "    <tr>\n",
       "      <th>338</th>\n",
       "      <td>R$ 4.000</td>\n",
       "      <td>Boa Viagem, Recife</td>\n",
       "      <td>80</td>\n",
       "      <td>3</td>\n",
       "      <td>POINT (-34.90340 -8.12350)</td>\n",
       "    </tr>\n",
       "    <tr>\n",
       "      <th>339</th>\n",
       "      <td>R$ 1.400</td>\n",
       "      <td>Avenida Doutor José Rufino, Tejipi...</td>\n",
       "      <td>45</td>\n",
       "      <td>2</td>\n",
       "      <td>POINT (-34.95436 -8.09016)</td>\n",
       "    </tr>\n",
       "  </tbody>\n",
       "</table>\n",
       "<p>340 rows × 5 columns</p>\n",
       "</div>"
      ],
      "text/plain": [
       "                        Aluguel  \\\n",
       "0          R$ 2.000               \n",
       "1          R$ 2.000               \n",
       "2            R$ 700               \n",
       "3          R$ 2.800               \n",
       "4          R$ 2.600               \n",
       "..                          ...   \n",
       "335        R$ 3.200               \n",
       "336        R$ 3.900               \n",
       "337        R$ 2.000               \n",
       "338        R$ 4.000               \n",
       "339        R$ 1.400               \n",
       "\n",
       "                                              Endereco  medida  \\\n",
       "0                Rua Doutor Raul Lafayette, Boa Via...      60   \n",
       "1                Rua Vicente Zírpoli, Caxangá      ...      64   \n",
       "2                Rua Presidente Nilo Peçanha, Imbir...      50   \n",
       "3                Rua Isaac Salazar, Tamarineira    ...      49   \n",
       "4                Rua Conselheiro Portela, Espinheir...      60   \n",
       "..                                                 ...     ...   \n",
       "335              Rua Desembargador João Paes, Boa V...      61   \n",
       "336              Rua Antônio Falcão, Boa Viagem    ...      55   \n",
       "337              Avenida Hélio Falcão, Boa Viagem  ...      47   \n",
       "338                       Boa Viagem, Recife                80   \n",
       "339              Avenida Doutor José Rufino, Tejipi...      45   \n",
       "\n",
       "                 quarto                 localizacao  \n",
       "0            2           POINT (-34.90050 -8.12213)  \n",
       "1            3           POINT (-34.95265 -8.03094)  \n",
       "2            2           POINT (-34.91026 -8.11897)  \n",
       "3            2           POINT (-34.90551 -8.03255)  \n",
       "4            2           POINT (-34.89470 -8.04256)  \n",
       "..                  ...                         ...  \n",
       "335          2           POINT (-34.90984 -8.12666)  \n",
       "336          2           POINT (-34.90037 -8.11322)  \n",
       "337          1           POINT (-34.90292 -8.12172)  \n",
       "338          3           POINT (-34.90340 -8.12350)  \n",
       "339          2           POINT (-34.95436 -8.09016)  \n",
       "\n",
       "[340 rows x 5 columns]"
      ]
     },
     "metadata": {},
     "output_type": "display_data"
    }
   ],
   "source": [
    "display(df)"
   ]
  },
  {
   "cell_type": "markdown",
   "id": "b3ede3e1",
   "metadata": {},
   "source": [
    "### exportar o dataframe para o PowerBI"
   ]
  },
  {
   "cell_type": "code",
   "execution_count": 61,
   "id": "fa0578bd",
   "metadata": {},
   "outputs": [],
   "source": [
    "df.to_csv(\"Imoveis_340_Recife_ZapImoveis.csv\", encoding='utf-8')"
   ]
  },
  {
   "cell_type": "code",
   "execution_count": null,
   "id": "86fa2b7d",
   "metadata": {},
   "outputs": [],
   "source": []
  }
 ],
 "metadata": {
  "kernelspec": {
   "display_name": "Python 3 (ipykernel)",
   "language": "python",
   "name": "python3"
  },
  "language_info": {
   "codemirror_mode": {
    "name": "ipython",
    "version": 3
   },
   "file_extension": ".py",
   "mimetype": "text/x-python",
   "name": "python",
   "nbconvert_exporter": "python",
   "pygments_lexer": "ipython3",
   "version": "3.10.4"
  }
 },
 "nbformat": 4,
 "nbformat_minor": 5
}
